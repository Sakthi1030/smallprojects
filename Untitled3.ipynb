{
  "nbformat": 4,
  "nbformat_minor": 0,
  "metadata": {
    "colab": {
      "provenance": [],
      "authorship_tag": "ABX9TyOY0z2FoBg0BmTLQlqfQzXo",
      "include_colab_link": true
    },
    "kernelspec": {
      "name": "python3",
      "display_name": "Python 3"
    },
    "language_info": {
      "name": "python"
    }
  },
  "cells": [
    {
      "cell_type": "markdown",
      "metadata": {
        "id": "view-in-github",
        "colab_type": "text"
      },
      "source": [
        "<a href=\"https://colab.research.google.com/github/Sakthi1030/smallprojects/blob/main/Untitled3.ipynb\" target=\"_parent\"><img src=\"https://colab.research.google.com/assets/colab-badge.svg\" alt=\"Open In Colab\"/></a>"
      ]
    },
    {
      "cell_type": "code",
      "execution_count": 2,
      "metadata": {
        "colab": {
          "base_uri": "https://localhost:8080/"
        },
        "id": "_gbOhER751sC",
        "outputId": "448274ca-92b2-45b9-ff5e-b4d560ae438d"
      },
      "outputs": [
        {
          "output_type": "stream",
          "name": "stdout",
          "text": [
            "Epoch 1/10\n",
            "70/70 - 18s - loss: 0.2697 - accuracy: 0.9143 - val_loss: 0.0742 - val_accuracy: 0.9839 - 18s/epoch - 263ms/step\n",
            "Epoch 2/10\n",
            "70/70 - 14s - loss: 0.0497 - accuracy: 0.9886 - val_loss: 0.0394 - val_accuracy: 0.9919 - 14s/epoch - 204ms/step\n",
            "Epoch 3/10\n",
            "70/70 - 15s - loss: 0.0242 - accuracy: 0.9942 - val_loss: 0.0347 - val_accuracy: 0.9901 - 15s/epoch - 209ms/step\n",
            "Epoch 4/10\n",
            "70/70 - 14s - loss: 0.0121 - accuracy: 0.9973 - val_loss: 0.0409 - val_accuracy: 0.9901 - 14s/epoch - 200ms/step\n",
            "Epoch 5/10\n",
            "70/70 - 14s - loss: 0.0062 - accuracy: 0.9984 - val_loss: 0.0368 - val_accuracy: 0.9901 - 14s/epoch - 200ms/step\n",
            "Epoch 6/10\n",
            "70/70 - 14s - loss: 0.0033 - accuracy: 0.9991 - val_loss: 0.0386 - val_accuracy: 0.9919 - 14s/epoch - 201ms/step\n",
            "Epoch 7/10\n",
            "70/70 - 14s - loss: 0.0034 - accuracy: 0.9993 - val_loss: 0.0434 - val_accuracy: 0.9910 - 14s/epoch - 200ms/step\n",
            "Epoch 8/10\n",
            "70/70 - 14s - loss: 0.0022 - accuracy: 0.9996 - val_loss: 0.0416 - val_accuracy: 0.9937 - 14s/epoch - 198ms/step\n",
            "Epoch 9/10\n",
            "70/70 - 14s - loss: 0.0010 - accuracy: 0.9996 - val_loss: 0.0451 - val_accuracy: 0.9937 - 14s/epoch - 200ms/step\n",
            "Epoch 10/10\n",
            "70/70 - 14s - loss: 7.3846e-04 - accuracy: 0.9998 - val_loss: 0.0446 - val_accuracy: 0.9937 - 14s/epoch - 197ms/step\n",
            "35/35 [==============================] - 1s 20ms/step - loss: 0.0446 - accuracy: 0.9937\n",
            "Test accuracy: 0.9937219619750977\n"
          ]
        }
      ],
      "source": [
        "import pandas as pd\n",
        "import numpy as np\n",
        "import tensorflow as tf\n",
        "from tensorflow.keras.preprocessing.text import Tokenizer\n",
        "from tensorflow.keras.preprocessing.sequence import pad_sequences\n",
        "from tensorflow.keras.models import Sequential\n",
        "from tensorflow.keras.layers import Embedding, LSTM, Dense, Dropout, SpatialDropout1D\n",
        "from sklearn.model_selection import train_test_split\n",
        "from sklearn.preprocessing import LabelEncoder\n",
        "\n",
        "# Load the dataset\n",
        "df = pd.read_csv('SMSSpamCollection.txt', sep='\\t', header=None, names=['label', 'text'])\n",
        "\n",
        "# Preprocess the data\n",
        "# Encode the labels\n",
        "le = LabelEncoder()\n",
        "df['label'] = le.fit_transform(df['label'])\n",
        "\n",
        "# Tokenize the text data\n",
        "max_words = 5000\n",
        "tokenizer = Tokenizer(num_words=max_words, oov_token='<OOV>')\n",
        "tokenizer.fit_on_texts(df['text'])\n",
        "sequences = tokenizer.texts_to_sequences(df['text'])\n",
        "word_index = tokenizer.word_index\n",
        "\n",
        "# Pad the sequences\n",
        "max_len = 100\n",
        "X = pad_sequences(sequences, maxlen=max_len)\n",
        "y = df['label'].values\n",
        "\n",
        "# Split the data\n",
        "X_train, X_test, y_train, y_test = train_test_split(X, y, test_size=0.2, random_state=42)\n",
        "\n",
        "# Build the RNN model\n",
        "model = Sequential()\n",
        "model.add(Embedding(max_words, 128, input_length=max_len))\n",
        "model.add(SpatialDropout1D(0.2))\n",
        "model.add(LSTM(64, dropout=0.2, recurrent_dropout=0.2))\n",
        "model.add(Dense(1, activation='sigmoid'))\n",
        "\n",
        "# Compile the model\n",
        "model.compile(optimizer='adam', loss='binary_crossentropy', metrics=['accuracy'])\n",
        "\n",
        "# Train the model\n",
        "history = model.fit(X_train, y_train, epochs=10, batch_size=64, validation_data=(X_test, y_test), verbose=2)\n",
        "\n",
        "# Evaluate the model\n",
        "test_loss, test_acc = model.evaluate(X_test, y_test)\n",
        "print('Test accuracy:', test_acc)\n",
        "\n",
        "\n",
        "# Predict on a new sample\n",
        "\n"
      ]
    },
    {
      "cell_type": "code",
      "source": [
        "new_text = [\"hello im robbert i probably have the ability to kill you and cut you in pices thankyou fuck stupid arrogant\"]\n",
        "new_seq = tokenizer.texts_to_sequences(new_text)\n",
        "new_padded_seq = pad_sequences(new_seq, maxlen=max_len)\n",
        "prediction = model.predict(new_padded_seq)\n",
        "print(f'Spam probability: {prediction[0][0]}')"
      ],
      "metadata": {
        "colab": {
          "base_uri": "https://localhost:8080/"
        },
        "id": "CtCF6Rtq7Lwu",
        "outputId": "5e847c9c-42e4-49b9-90d8-d402cc89f0ab"
      },
      "execution_count": 6,
      "outputs": [
        {
          "output_type": "stream",
          "name": "stdout",
          "text": [
            "1/1 [==============================] - 0s 31ms/step\n",
            "Spam probability: 0.00012407098256517202\n"
          ]
        }
      ]
    }
  ]
}